{
 "cells": [
  {
   "cell_type": "code",
   "execution_count": 1,
   "id": "f04ee3dd-3362-4c15-b999-d89b9a0aa50f",
   "metadata": {},
   "outputs": [],
   "source": [
    "import math"
   ]
  },
  {
   "cell_type": "code",
   "execution_count": 2,
   "id": "6a8a40f0-a578-4adb-b4ce-71e2c9ecffeb",
   "metadata": {
    "jupyter": {
     "source_hidden": true
    }
   },
   "outputs": [],
   "source": [
    "class reacciones:\n",
    "    def __init__(self, case, fcdead, Vx1, Fy1, Vz1, Vx2, Fy2, Vz2, Vx3, Fy3, Vz3):\n",
    "        self.case = case  # combinacion de carga\n",
    "        self.fcdead = fcdead #factor de carga de la carga muerta aplicado en las reacciones\n",
    "        # dado solitario\n",
    "        self.Vx1 = Vx1  # cortante x dado 1 [ton]\n",
    "        self.Fy1 = Fy1  # fuerza vertical dado 1 [ton]\n",
    "        self.Vz1 = Vz1  # cortante z dado 1 [ton]\n",
    "        # dado 2\n",
    "        self.Vx2 = Vx2  # cortante x dado 2 [ton]\n",
    "        self.Fy2 = Fy2  # fuerza vertical dado 2 [ton]\n",
    "        self.Vz2 = Vz2  # cortante z dado 2 [ton]\n",
    "        # dado 3\n",
    "        self.Vx3 = Vx3  # cortante x dado 3 [ton]\n",
    "        self.Fy3 = Fy3  # fuerza vertical dado 3 [ton]\n",
    "        self.Vz3 = Vz3  # cortante z dado 3 [ton]\n",
    "\n",
    "    def peso_torre(self):\n",
    "        return (self.Fy1 + self.Fy2 + self.Fy3)  / self.fcdead #Peso de la torre calculado de las reacciones [ton]\n",
    "\n",
    "    def atributos(self):\n",
    "        print(\"Combinación de carga: \",self.case)\n",
    "        print(\"Dado 1 Vx = \",self.Vx1,\" [ton]\")\n",
    "        print(\"Dado 1 Fy = \",self.Fy1,\" [ton]\")\n",
    "        print(\"Dado 1 Vz = \",self.Vz1,\" [ton]\")\n",
    "        print(\"Dado 2 Vx = \",self.Vx2,\" [ton]\")\n",
    "        print(\"Dado 2 Fy = \",self.Fy2,\" [ton]\")\n",
    "        print(\"Dado 2 Vz = \",self.Vz2,\" [ton]\")\n",
    "        print(\"Dado 3 Vx = \",self.Vx3,\" [ton]\")\n",
    "        print(\"Dado 3 Fy = \",self.Fy3,\" [ton]\")\n",
    "        print(\"Dado 3 Vz = \",self.Vz3,\" [ton]\")\n",
    "           "
   ]
  },
  {
   "cell_type": "code",
   "execution_count": 3,
   "id": "9f9761fe-083a-4c0f-9d91-92b10d18c01d",
   "metadata": {
    "jupyter": {
     "source_hidden": true
    }
   },
   "outputs": [],
   "source": [
    "class Concreto:\n",
    "    def __init__(self, tipo, fc, gconc):\n",
    "        self.tipo = tipo #Tipo de concreto\n",
    "        self.fc = fc #f'c del concreto kg/cm2\n",
    "        self.gconc = gconc #Peso volumetrico del concreto ton/m3\n",
    "\n",
    "    def atributos(self):\n",
    "        print(\"Concreto tipo \",self.tipo)\n",
    "        print(\"Resistencia del concreto a 28 dias f'c = \",self.fc)\n",
    "        print(\"Peso volumentrico del concreto ton/m3: \",self.gconc)"
   ]
  },
  {
   "cell_type": "code",
   "execution_count": 4,
   "id": "87fbe353-eebd-45e4-956c-207e263f7de6",
   "metadata": {
    "jupyter": {
     "source_hidden": true
    }
   },
   "outputs": [],
   "source": [
    "class Acero:\n",
    "    def __init__(self, grado, Fy):\n",
    "        self.grado = grado #Grado del acero de refuerzo principal\n",
    "        self.Fy = Fy #Esfuerzo de fluencia acero de refuerzo principal\n",
    "\n",
    "    def atributos(self):\n",
    "        print(\"Acero grado \",self.grado)\n",
    "        print(\"Esfuerzo de fluencia del acero: \",self.Fy)"
   ]
  },
  {
   "cell_type": "code",
   "execution_count": 5,
   "id": "f65f9b65-a2db-4a9a-8e29-f5d1442a5126",
   "metadata": {},
   "outputs": [],
   "source": [
    "class Suelo:\n",
    "    def __init__(self, dfmin, grell):\n",
    "        self.dfmin = dfmin #Profundidad minima de desplante\n",
    "        self.grell = grell #Peso volumetrico del relleno ton/m3"
   ]
  },
  {
   "cell_type": "code",
   "execution_count": 6,
   "id": "d35d6360-9b71-462a-ac9d-6e848ccbe3d7",
   "metadata": {
    "jupyter": {
     "source_hidden": true
    }
   },
   "outputs": [],
   "source": [
    "class Zapata:\n",
    "\n",
    "    def __init__(self, nombre, Bx, Bz, hl, Df, dx, dz, hd, sp, acero, concreto, suelo, reacciones ):\n",
    "        self.nombre = nombre\n",
    "        self.Bx = Bx #Ancho de losa en X [m]\n",
    "        self.Bz = Bz #Ancho de losa en z [m]\n",
    "        self.hl = hl #Espesor de la losa [m]\n",
    "        self.Df = Df #Profundidad de desplante [m]\n",
    "        self.dx = dx #Ancho de dado x\n",
    "        self.dz = dz #Ancho de dado Z\n",
    "        self.hd = hd #Altura que sobresale el dado sobre el terreno\n",
    "        self.sp = sp #Separacion entre piernas\n",
    "        self.acero = acero\n",
    "        self.concreto = concreto\n",
    "        self.suelo = suelo\n",
    "        self.reacciones = reacciones\n",
    "\n",
    "    def atributos(self):\n",
    "        print(self.nombre,\": \")\n",
    "        print(\"Ancho x [m]: \",self.Bx)\n",
    "        print(\"Ancho z [m]: \",self.Bz)\n",
    "        print(\"Espesor [m]: \",self.hl)\n",
    "        print(\"Profundidad de desplante [m]: \",self.Df)\n",
    "        print(\"Ancho de dado x [m]: \",self.dx)\n",
    "        print(\"Ancho de dado z [m]: \",self.dx)\n",
    "        print(\"Altura dado sobre terreno [m]: \",self.hd)\n",
    "        print(\"Separacion de piernas [m]: \",self.sp)\n",
    "\n",
    "    #Calculo de volumenes y pesos de la zapata\n",
    "\n",
    "    def vol_zap(self):\n",
    "        return self.Bx * self.Bz * self.hl #Volumen de la zapata. [m3]\n",
    "    \n",
    "    def h_dado(self):\n",
    "        return self.Df + self.hd - self.hl #Altura total de dado. [m]\n",
    "    \n",
    "    def vol_dado(self):\n",
    "        return self.dx * self.dz * self.h_dado() #Volumen de 1 dado. [m3]\n",
    "    \n",
    "    def peso_dado(self):\n",
    "        return self.vol_dado() * self.concreto.gconc #Peso de 1 dado. [ton]\n",
    "    \n",
    "    def peso_zap(self):\n",
    "        return self.vol_zap() * self.concreto.gconc #Peso de la zapata. [ton]\n",
    "\n",
    "    def vol_rell(self):\n",
    "        return ((self.Bx * self.Bz) - (3 * (self.dx * self.dz))) * (self.Df - self.hl) #Volumen del relleno [m3]\n",
    "    \n",
    "    def peso_rell(self):\n",
    "        return self.vol_rell() * self.suelo.grell #Peso del relleno [ton]\n",
    "    \n",
    "    #distancias de los elementos al borde frontal (dado solitario)\n",
    "\n",
    "    def z_losa(self):\n",
    "        return self.Bz / 2\n",
    "    \n",
    "    def spz(self):\n",
    "        return self.sp * math.sin(math.radians(60)) #separacion de piernas en direccion z, proyeccion\n",
    "    \n",
    "    def z_dado1(self):\n",
    "        return 0.5 * (self.Bz - self.spz())\n",
    "    \n",
    "    def z_dado2(self):\n",
    "        return self.spz() + self.z_dado1()\n",
    "    \n",
    "    def z_rell(self):\n",
    "        return ((self.Bx * self.Bz) * (self.Bz/2) - (self.dx * self.dz) * self.z_dado1() - (self.dx * self.dz) * self.z_dado2()) / ((self.Bx * self.Bz) - (self.dx * self.dz) - (self.dx * self.dz))\n",
    "    \n",
    "    def z_torre(self):\n",
    "        return self.z_dado1() + ((2/3) * self.spz())\n",
    "\n",
    "    #Calculo de momento resistente alrededor del eje frontal\n",
    "\n",
    "    def Mrx1(self):\n",
    "        return self.peso_zap() * self.z_losa() + self.peso_dado() * (self.z_dado1() + 2 * self.z_dado2()) + self.peso_rell() * self.z_rell() + self.reacciones.peso_torre() * self.z_torre()\n",
    "\n",
    "    #Calculo de momento resistente alrededor de eje posterior\n",
    "\n",
    "    def Mrx2(self):\n",
    "        return self.peso_zap() * self.z_losa() + self.peso_dado() * ((self.Bz - self.z_dado1()) + 2 * (self.Bz - self.z_dado2())) + self.peso_rell() * (self.Bz - self.z_rell()) + self.reacciones.peso_torre() * (self.Bz - self.z_torre())\n",
    "\n",
    "    #Calculo de momento actuante alrededor de eje 1\n",
    "    \n",
    "    #formula aplicable a las reacciones en el formato que las proporciona SITES\n",
    "    \n",
    "    def Max1(self):\n",
    "        return -(self.reacciones.Fy1 - self.reacciones.peso_torre()/3) * self.z_dado1() - ((self.reacciones.Fy2 - self.reacciones.peso_torre()/3 + self.reacciones.Fy3 - self.reacciones.peso_torre()/3)) * self.z_dado2() + (self.reacciones.Vz1 + self.reacciones.Vz2 + self.reacciones.Vz3) * (self.Df + self.hd)\n",
    "\n",
    "    #Calculo de momento actuante alrededor de eje 1\n",
    "    \n",
    "    #formula aplicable a las reacciones en el formato que las proporciona SITES\n",
    "\n",
    "    def Max2(self):\n",
    "        return (-self.reacciones.Fy1 + self.reacciones.peso_torre()/3) * (self.Bx - self.z_dado1()) - (self.reacciones.Fy2 + self.reacciones.Fy3 - 2 * self.reacciones.peso_torre()/3) * self.z_dado1() - (self.reacciones.Vz1 + self.reacciones.Vz2 + self.reacciones.Vz3) * (self.Df + self.hd)\n",
    "\n",
    "    "
   ]
  },
  {
   "cell_type": "markdown",
   "id": "c4a621bb-b4ba-48d4-83d9-e72ba3e3fd30",
   "metadata": {},
   "source": [
    "### Reacciones de la torre"
   ]
  },
  {
   "cell_type": "markdown",
   "id": "f26dfc94-3b25-4276-9c0c-db21298b51d0",
   "metadata": {},
   "source": [
    "#### Combinacion de carga 16"
   ]
  },
  {
   "cell_type": "code",
   "execution_count": 7,
   "id": "b2f607ff-7daf-4729-abd5-b24ad8164d6d",
   "metadata": {},
   "outputs": [
    {
     "name": "stdout",
     "output_type": "stream",
     "text": [
      "Combinación de carga:  load 16\n",
      "Dado 1 Vx =  0.007  [ton]\n",
      "Dado 1 Fy =  67.09  [ton]\n",
      "Dado 1 Vz =  5.32  [ton]\n",
      "Dado 2 Vx =  -1.83  [ton]\n",
      "Dado 2 Fy =  -28.47  [ton]\n",
      "Dado 2 Vz =  1.52  [ton]\n",
      "Dado 3 Vx =  -1.85  [ton]\n",
      "Dado 3 Fy =  -28.89  [ton]\n",
      "Dado 3 Vz =  1.51  [ton]\n"
     ]
    }
   ],
   "source": [
    "load16 = reacciones(\"load 16\",1.2, 0.007, 67.09, 5.32, -1.83, -28.47, 1.52, -1.85, -28.89, 1.51)\n",
    "load16.atributos()"
   ]
  },
  {
   "cell_type": "markdown",
   "id": "efc90cd7-b219-45c9-966d-4975bc3528a7",
   "metadata": {},
   "source": [
    "#### Combinacion de carga 25"
   ]
  },
  {
   "cell_type": "code",
   "execution_count": 8,
   "id": "4b86e146-8caf-45d6-8aad-7bbfbd7ce0db",
   "metadata": {},
   "outputs": [
    {
     "name": "stdout",
     "output_type": "stream",
     "text": [
      "Combinación de carga:  load 25)\n",
      "Dado 1 Vx =  -0.007  [ton]\n",
      "Dado 1 Fy =  -61.46  [ton]\n",
      "Dado 1 Vz =  -4.93  [ton]\n",
      "Dado 2 Vx =  -2.16  [ton]\n",
      "Dado 2 Fy =  34.17  [ton]\n",
      "Dado 2 Vz =  -1.71  [ton]\n",
      "Dado 3 Vx =  2.19  [ton]\n",
      "Dado 3 Fy =  34.59  [ton]\n",
      "Dado 3 Vz =  -1.71  [ton]\n"
     ]
    }
   ],
   "source": [
    "load25 = reacciones(\"load 25)\",0.9, -0.007, -61.46, -4.93, -2.16, 34.17, -1.71, 2.19, 34.59, -1.71)\n",
    "load25.atributos()"
   ]
  },
  {
   "cell_type": "markdown",
   "id": "56f63bc2-3440-47fe-ab02-c02564a144ee",
   "metadata": {},
   "source": [
    "### Geometria de la cimentación"
   ]
  },
  {
   "cell_type": "markdown",
   "id": "6908db65-0429-4653-a205-0417f911f7d6",
   "metadata": {},
   "source": [
    "### Materiales"
   ]
  },
  {
   "cell_type": "markdown",
   "id": "132de7e4-18e9-4e61-a869-5911ad3faf63",
   "metadata": {},
   "source": [
    "Concreto"
   ]
  },
  {
   "cell_type": "code",
   "execution_count": 9,
   "id": "cd94f001-b337-4bf5-8018-1fbcc543031f",
   "metadata": {},
   "outputs": [
    {
     "name": "stdout",
     "output_type": "stream",
     "text": [
      "Concreto tipo  Tipo 1\n",
      "Resistencia del concreto a 28 dias f'c =  250\n",
      "Peso volumentrico del concreto ton/m3:  2.2\n"
     ]
    }
   ],
   "source": [
    "fc280 = Concreto(\"Tipo 1\",250, 2.2)\n",
    "fc280.atributos()"
   ]
  },
  {
   "cell_type": "markdown",
   "id": "937bedb7-4426-47c1-9fb2-aaefdd0b6c16",
   "metadata": {},
   "source": [
    "Acero"
   ]
  },
  {
   "cell_type": "code",
   "execution_count": 10,
   "id": "16c198e4-2e03-4cca-8f0f-6609b7d55b43",
   "metadata": {},
   "outputs": [
    {
     "name": "stdout",
     "output_type": "stream",
     "text": [
      "Acero grado  Grado 42\n",
      "Esfuerzo de fluencia del acero:  4200\n"
     ]
    }
   ],
   "source": [
    "AceroG42 = Acero(\"Grado 42\",4200)\n",
    "AceroG42.atributos()"
   ]
  },
  {
   "cell_type": "code",
   "execution_count": 12,
   "id": "6a4f7aaf-e4eb-4cbc-8d41-ad76fa3c7a63",
   "metadata": {},
   "outputs": [],
   "source": [
    "suelo01 = Suelo(2.20,1.60)"
   ]
  },
  {
   "cell_type": "code",
   "execution_count": 13,
   "id": "cdefbfd3-3a2d-4954-81d9-e44bade592e6",
   "metadata": {},
   "outputs": [
    {
     "name": "stdout",
     "output_type": "stream",
     "text": [
      "Zapata 01 : \n",
      "Ancho x [m]:  6.0\n",
      "Ancho z [m]:  6.0\n",
      "Espesor [m]:  0.55\n",
      "Profundidad de desplante [m]:  2.2\n",
      "Ancho de dado x [m]:  0.6\n",
      "Ancho de dado z [m]:  0.6\n",
      "Altura dado sobre terreno [m]:  0.3\n",
      "Separacion de piernas [m]:  4.68\n"
     ]
    }
   ],
   "source": [
    "zapata01 = Zapata(\"Zapata 01\",6.00,6.00,0.55,2.20,0.60,0.60,0.30,4.68, AceroG42,fc280, suelo01, load16 )\n",
    "zapata02 = Zapata(\"Zapata 01\",6.00,6.00,0.55,2.20,0.60,0.60,0.30,4.68, AceroG42,fc280, suelo01, load25 )\n",
    "zapata01.atributos()"
   ]
  },
  {
   "cell_type": "code",
   "execution_count": null,
   "id": "b6930804-b625-48c9-b586-b448f87b70cb",
   "metadata": {},
   "outputs": [],
   "source": [
    "\n",
    "\n",
    "\n",
    "\n",
    "\n",
    "\n",
    "\n",
    "\n",
    "print(f\"El volumen de la zapata es: \",zapata01.vol_zap(), \" m³\")\n",
    "print(f\"El peso de la zapata es: \",zapata01.peso_zap(), \" ton\")\n",
    "print(f\"El peso de la torre es: \",load16.peso_torre(), \" ton\")\n",
    "print(f\"El volumen del relleno es: \",zapata01.vol_rell(), \" m3\")\n",
    "print(f\"El peso del relleno es: \",zapata01.peso_rell(), \" ton\")\n",
    "print(f\"separacion: \",zapata01.sp, \" m\")\n",
    "print(f\"separacion: \",zapata01.z_dado1(), \" m\")\n",
    "print(f\"separacion: \",zapata01.z_torre(), \" m\")\n",
    "print(f\"Max1: \",zapata01.Max1(), \" ton * m\")\n",
    "print(f\"Max2: \",zapata02.Max2(), \" ton * m\")\n",
    "print(f\"Mrx1: \",zapata01.Mrx1(), \" ton * m\")\n",
    "print(f\"Mrx2: \",zapata02.Mrx2(), \" ton * m\")\n",
    "print(f\"0.9 Mrx1: \",0.9*zapata01.Mrx1(), \" ton * m\")\n",
    "print(f\"0.9 Mrx2: \",0.9*zapata02.Mrx2(), \" ton * m\")\n",
    "print(f\"Max1 / 0.9 Mrx1 = \",(zapata01.Max1())/(0.9*zapata01.Mrx1()))\n",
    "print(f\"Max2 / 0.9 Mrx2 = \",(zapata02.Max2())/(0.9*zapata02.Mrx2()))"
   ]
  },
  {
   "cell_type": "code",
   "execution_count": null,
   "id": "0c06e4b4-1560-4338-b9f5-48c4533d6c4d",
   "metadata": {},
   "outputs": [],
   "source": []
  }
 ],
 "metadata": {
  "kernelspec": {
   "display_name": "Python 3 (ipykernel)",
   "language": "python",
   "name": "python3"
  },
  "language_info": {
   "codemirror_mode": {
    "name": "ipython",
    "version": 3
   },
   "file_extension": ".py",
   "mimetype": "text/x-python",
   "name": "python",
   "nbconvert_exporter": "python",
   "pygments_lexer": "ipython3",
   "version": "3.12.4"
  }
 },
 "nbformat": 4,
 "nbformat_minor": 5
}
